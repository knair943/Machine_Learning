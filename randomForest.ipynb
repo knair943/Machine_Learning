{
 "cells": [
  {
   "cell_type": "code",
   "execution_count": 2,
   "id": "ec582cb9-7598-4ff7-991b-e60bc4aa797c",
   "metadata": {},
   "outputs": [],
   "source": [
    "import pandas as pd\n",
    "import matplotlib.pyplot as plt\n",
    "import numpy as np"
   ]
  },
  {
   "cell_type": "code",
   "execution_count": 3,
   "id": "9f082e39-03e6-4e6a-93ef-3f667eaaf3fc",
   "metadata": {},
   "outputs": [],
   "source": [
    "from sklearn.preprocessing import LabelEncoder\n",
    "from sklearn.model_selection import train_test_split"
   ]
  },
  {
   "cell_type": "code",
   "execution_count": 4,
   "id": "94341211-6644-413f-bcf0-5cce1cf0228d",
   "metadata": {},
   "outputs": [],
   "source": [
    "data  = pd.read_csv(\"insurance.csv\")"
   ]
  },
  {
   "cell_type": "code",
   "execution_count": 5,
   "id": "02d10b6b-303a-49fd-bff7-1e71b1289e1f",
   "metadata": {},
   "outputs": [],
   "source": [
    "label_encoder = LabelEncoder()"
   ]
  },
  {
   "cell_type": "code",
   "execution_count": 6,
   "id": "c0a2bd7f-4155-4737-8bcb-2203bc350c19",
   "metadata": {},
   "outputs": [],
   "source": [
    "data[\"sex\"] = label_encoder.fit_transform(data[\"sex\"])\n",
    "data[\"smoker\"] = label_encoder.fit_transform(data[\"smoker\"])\n",
    "data[\"region\"] = label_encoder.fit_transform(data[\"region\"])"
   ]
  },
  {
   "cell_type": "code",
   "execution_count": 7,
   "id": "64a58fc7-36b0-4c2c-8768-29c9e9a079f6",
   "metadata": {},
   "outputs": [
    {
     "data": {
      "text/plain": [
       "array([[1.90000000e+01, 0.00000000e+00, 2.79000000e+01, 0.00000000e+00,\n",
       "        3.00000000e+00, 1.68849240e+04],\n",
       "       [1.80000000e+01, 1.00000000e+00, 3.37700000e+01, 1.00000000e+00,\n",
       "        2.00000000e+00, 1.72555230e+03],\n",
       "       [2.80000000e+01, 1.00000000e+00, 3.30000000e+01, 3.00000000e+00,\n",
       "        2.00000000e+00, 4.44946200e+03],\n",
       "       ...,\n",
       "       [1.80000000e+01, 0.00000000e+00, 3.68500000e+01, 0.00000000e+00,\n",
       "        2.00000000e+00, 1.62983350e+03],\n",
       "       [2.10000000e+01, 0.00000000e+00, 2.58000000e+01, 0.00000000e+00,\n",
       "        3.00000000e+00, 2.00794500e+03],\n",
       "       [6.10000000e+01, 0.00000000e+00, 2.90700000e+01, 0.00000000e+00,\n",
       "        1.00000000e+00, 2.91413603e+04]])"
      ]
     },
     "execution_count": 7,
     "metadata": {},
     "output_type": "execute_result"
    }
   ],
   "source": [
    "x = data.loc[:, [\"age\", \"sex\", \"bmi\", \"children\", \"region\", \"charges\"]].values\n",
    "x"
   ]
  },
  {
   "cell_type": "code",
   "execution_count": 8,
   "id": "f66a1f16-c02a-4536-aac8-c6553467e6eb",
   "metadata": {},
   "outputs": [
    {
     "data": {
      "text/plain": [
       "0       1\n",
       "1       0\n",
       "2       0\n",
       "3       0\n",
       "4       0\n",
       "       ..\n",
       "1333    0\n",
       "1334    0\n",
       "1335    0\n",
       "1336    0\n",
       "1337    1\n",
       "Name: smoker, Length: 1338, dtype: int32"
      ]
     },
     "execution_count": 8,
     "metadata": {},
     "output_type": "execute_result"
    }
   ],
   "source": [
    "y = data.loc[:, \"smoker\"]\n",
    "y"
   ]
  },
  {
   "cell_type": "code",
   "execution_count": 10,
   "id": "226a6379-2486-4960-b731-5c9b12fafffc",
   "metadata": {},
   "outputs": [],
   "source": [
    "from sklearn.model_selection import train_test_split\n",
    "x_train, x_test, y_train, y_test = train_test_split(x, y, train_size = 0.75)"
   ]
  },
  {
   "cell_type": "code",
   "execution_count": 11,
   "id": "8128787a-7f4a-4130-8aa3-f57c7356b2ed",
   "metadata": {},
   "outputs": [],
   "source": [
    "#Random Forest Model\n",
    "#multiple decision trees work in a group to predict a more accurate outcome\n",
    "from sklearn.ensemble import RandomForestClassifier"
   ]
  },
  {
   "cell_type": "code",
   "execution_count": null,
   "id": "2c2be890-5806-4397-9d1b-3d447551c080",
   "metadata": {},
   "outputs": [],
   "source": []
  },
  {
   "cell_type": "code",
   "execution_count": null,
   "id": "1875c718-d3fe-43f9-8857-b5c5cc34286f",
   "metadata": {},
   "outputs": [],
   "source": []
  },
  {
   "cell_type": "code",
   "execution_count": null,
   "id": "e00ce45e-54ba-44b6-8960-ae3c4cdecd46",
   "metadata": {},
   "outputs": [],
   "source": []
  }
 ],
 "metadata": {
  "kernelspec": {
   "display_name": "Python 3 (ipykernel)",
   "language": "python",
   "name": "python3"
  },
  "language_info": {
   "codemirror_mode": {
    "name": "ipython",
    "version": 3
   },
   "file_extension": ".py",
   "mimetype": "text/x-python",
   "name": "python",
   "nbconvert_exporter": "python",
   "pygments_lexer": "ipython3",
   "version": "3.11.7"
  }
 },
 "nbformat": 4,
 "nbformat_minor": 5
}
